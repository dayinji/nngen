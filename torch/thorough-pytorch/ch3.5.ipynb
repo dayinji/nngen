{
 "cells": [
  {
   "cell_type": "markdown",
   "metadata": {},
   "source": [
    "# 3.5 模型初始化"
   ]
  },
  {
   "cell_type": "code",
   "execution_count": 2,
   "metadata": {},
   "outputs": [
    {
     "data": {
      "text/plain": [
       "False"
      ]
     },
     "execution_count": 2,
     "metadata": {},
     "output_type": "execute_result"
    }
   ],
   "source": [
    "import torch\n",
    "import torch.nn as nn\n",
    "\n",
    "conv = nn.Conv2d(1,3,3)\n",
    "linear = nn.Linear(10,1)\n",
    "\n",
    "isinstance(conv,nn.Conv2d) # 判断conv是否是nn.Conv2d类型\n",
    "isinstance(linear,nn.Conv2d) # 判断linear是否是nn.Conv2d类型"
   ]
  },
  {
   "cell_type": "code",
   "execution_count": 4,
   "metadata": {},
   "outputs": [
    {
     "name": "stdout",
     "output_type": "stream",
     "text": [
      "tensor([[[[-0.1658,  0.1045,  0.1799],\n",
      "          [ 0.2633,  0.0619, -0.2959],\n",
      "          [ 0.0295,  0.2326, -0.0225]]],\n",
      "\n",
      "\n",
      "        [[[ 0.0827, -0.3130, -0.2353],\n",
      "          [-0.1460,  0.2899,  0.2258],\n",
      "          [-0.2041, -0.0764,  0.0616]]],\n",
      "\n",
      "\n",
      "        [[[-0.2411, -0.1778,  0.0363],\n",
      "          [ 0.2287, -0.0314, -0.0919],\n",
      "          [-0.3135,  0.1814, -0.0925]]]])\n",
      "tensor([[-0.0383, -0.3064,  0.3131,  0.3029,  0.1184, -0.1115,  0.1538,  0.1375,\n",
      "         -0.1329,  0.2193]])\n"
     ]
    }
   ],
   "source": [
    "# 查看随机初始化的conv参数\n",
    "print(conv.weight.data)\n",
    "# 查看linear的参数\n",
    "print(linear.weight.data)"
   ]
  },
  {
   "cell_type": "code",
   "execution_count": 6,
   "metadata": {},
   "outputs": [
    {
     "name": "stdout",
     "output_type": "stream",
     "text": [
      "tensor([[[[ 0.7561, -0.6994, -0.5043],\n",
      "          [-0.3809, -1.0173, -0.0489],\n",
      "          [-0.0896,  0.3203,  0.4248]]],\n",
      "\n",
      "\n",
      "        [[[ 0.8974, -0.0754, -0.3074],\n",
      "          [-0.0452,  0.5232,  0.2168],\n",
      "          [ 0.3735, -0.1852,  0.2766]]],\n",
      "\n",
      "\n",
      "        [[[-0.9125,  0.3434, -0.1310],\n",
      "          [-0.0467,  0.2664,  0.8275],\n",
      "          [-0.3877,  0.4532, -0.1888]]]])\n",
      "tensor([[0.3000, 0.3000, 0.3000, 0.3000, 0.3000, 0.3000, 0.3000, 0.3000, 0.3000,\n",
      "         0.3000]])\n"
     ]
    }
   ],
   "source": [
    "# 对conv进行kaiming初始化\n",
    "torch.nn.init.kaiming_normal_(conv.weight.data)\n",
    "print(conv.weight.data)\n",
    "# 对linear进行常数初始化\n",
    "torch.nn.init.constant_(linear.weight.data,0.3)\n",
    "print(linear.weight.data)"
   ]
  },
  {
   "cell_type": "code",
   "execution_count": 7,
   "metadata": {},
   "outputs": [
    {
     "name": "stdout",
     "output_type": "stream",
     "text": [
      "tensor([[[[ 0.0968,  0.3289,  0.2632],\n",
      "          [-0.0845,  0.2719, -0.1006],\n",
      "          [-0.0358, -0.0613,  0.2231]]]])\n",
      "-------初始化-------\n",
      "tensor([[[[0., 0., 0.],\n",
      "          [0., 0., 0.],\n",
      "          [0., 0., 0.]]]])\n"
     ]
    }
   ],
   "source": [
    "def initialize_weights(model):\n",
    "\tfor m in model.modules():\n",
    "\t\t# 判断是否属于Conv2d\n",
    "\t\tif isinstance(m, nn.Conv2d):\n",
    "\t\t\ttorch.nn.init.zeros_(m.weight.data)\n",
    "\t\t\t# 判断是否有偏置\n",
    "\t\t\tif m.bias is not None:\n",
    "\t\t\t\ttorch.nn.init.constant_(m.bias.data,0.3)\n",
    "\t\telif isinstance(m, nn.Linear):\n",
    "\t\t\ttorch.nn.init.normal_(m.weight.data, 0.1)\n",
    "\t\t\tif m.bias is not None:\n",
    "\t\t\t\ttorch.nn.init.zeros_(m.bias.data)\n",
    "\t\telif isinstance(m, nn.BatchNorm2d):\n",
    "\t\t\tm.weight.data.fill_(1) \t\t \n",
    "\t\t\tm.bias.data.zeros_()\t\n",
    "   \n",
    "class MLP(nn.Module):\n",
    "  def __init__(self, **kwargs):\n",
    "    super(MLP, self).__init__(**kwargs)\n",
    "    self.hidden = nn.Conv2d(1,1,3)\n",
    "    self.act = nn.ReLU()\n",
    "    self.output = nn.Linear(10, 1)\n",
    "    \n",
    "  def forward(self, x):\n",
    "    o = self.act(self.hidden(x))\n",
    "    return self.output(o)\n",
    "\n",
    "mlp = MLP()\n",
    "print(mlp.hidden.weight.data)\n",
    "print(\"-------初始化-------\")\n",
    "mlp.apply(initialize_weights)\n",
    "print(mlp.hidden.weight.data)"
   ]
  },
  {
   "cell_type": "code",
   "execution_count": null,
   "metadata": {},
   "outputs": [],
   "source": []
  }
 ],
 "metadata": {
  "kernelspec": {
   "display_name": "nngen",
   "language": "python",
   "name": "python3"
  },
  "language_info": {
   "codemirror_mode": {
    "name": "ipython",
    "version": 3
   },
   "file_extension": ".py",
   "mimetype": "text/x-python",
   "name": "python",
   "nbconvert_exporter": "python",
   "pygments_lexer": "ipython3",
   "version": "3.10.13"
  }
 },
 "nbformat": 4,
 "nbformat_minor": 2
}
