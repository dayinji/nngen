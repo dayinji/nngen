{
 "cells": [
  {
   "cell_type": "markdown",
   "metadata": {},
   "source": [
    "# 基础实战——FashionMNIST时装分类"
   ]
  },
  {
   "cell_type": "code",
   "execution_count": 29,
   "metadata": {},
   "outputs": [],
   "source": [
    "import os\n",
    "import numpy as np\n",
    "import pandas as pd\n",
    "import torch\n",
    "import torch.nn as nn\n",
    "import torch.optim as optim\n",
    "from torch.utils.data import Dataset, DataLoader"
   ]
  },
  {
   "cell_type": "code",
   "execution_count": 30,
   "metadata": {},
   "outputs": [],
   "source": [
    "# 配置GPU，这里有两种方式\n",
    "## 方案一：使用os.environ\n",
    "os.environ['CUDA_VISIBLE_DEVICES'] = '0'\n",
    "# 方案二：使用“device”，后续对要使用GPU的变量用.to(device)即可\n",
    "# device = torch.device(\"cuda:1\" if torch.cuda.is_available() else \"cpu\")\n",
    "\n",
    "## 配置其他超参数，如batch_size, num_workers, learning rate, 以及总的epochs\n",
    "batch_size = 256\n",
    "num_workers = 0   # 对于Windows用户，这里应设置为0，否则会出现多线程错误\n",
    "lr = 1e-4\n",
    "epochs = 20"
   ]
  },
  {
   "cell_type": "code",
   "execution_count": 31,
   "metadata": {},
   "outputs": [],
   "source": [
    "# 首先设置数据变换\n",
    "from torchvision import transforms\n",
    "\n",
    "image_size = 28\n",
    "data_transform = transforms.Compose([\n",
    "    # transforms.ToPILImage(),  \n",
    "     # 这一步取决于后续的数据读取方式，如果使用内置数据集读取方式则不需要\n",
    "    transforms.Resize(image_size),\n",
    "    transforms.ToTensor()\n",
    "])"
   ]
  },
  {
   "cell_type": "code",
   "execution_count": 32,
   "metadata": {},
   "outputs": [],
   "source": [
    "## 读取方式一：使用torchvision自带数据集，下载可能需要一段时间\n",
    "from torchvision import datasets\n",
    "\n",
    "train_data = datasets.FashionMNIST(root='./data/ch4', train=True, download=True, transform=data_transform)\n",
    "test_data = datasets.FashionMNIST(root='./data/ch4', train=False, download=True, transform=data_transform)"
   ]
  },
  {
   "cell_type": "code",
   "execution_count": 33,
   "metadata": {},
   "outputs": [],
   "source": [
    "train_loader = DataLoader(train_data, batch_size=batch_size, shuffle=True, num_workers=num_workers, drop_last=True)\n",
    "test_loader = DataLoader(test_data, batch_size=batch_size, shuffle=False, num_workers=num_workers)"
   ]
  },
  {
   "cell_type": "code",
   "execution_count": 34,
   "metadata": {},
   "outputs": [
    {
     "name": "stdout",
     "output_type": "stream",
     "text": [
      "torch.Size([256, 1, 28, 28]) torch.Size([256])\n"
     ]
    },
    {
     "data": {
      "text/plain": [
       "<matplotlib.image.AxesImage at 0x1f259f3b7c0>"
      ]
     },
     "execution_count": 34,
     "metadata": {},
     "output_type": "execute_result"
    },
    {
     "data": {
      "image/png": "[encoded data removed]",
      "text/plain": [
       "<Figure size 640x480 with 1 Axes>"
      ]
     },
     "metadata": {},
     "output_type": "display_data"
    }
   ],
   "source": [
    "import matplotlib.pyplot as plt\n",
    "image, label = next(iter(train_loader))\n",
    "print(image.shape, label.shape)\n",
    "plt.imshow(image[0][0], cmap=\"gray\")"
   ]
  },
  {
   "cell_type": "code",
   "execution_count": 35,
   "metadata": {},
   "outputs": [],
   "source": [
    "class Net(nn.Module):\n",
    "    def __init__(self):\n",
    "        super(Net, self).__init__()\n",
    "        self.conv = nn.Sequential(\n",
    "            nn.Conv2d(1, 32, 5),\n",
    "            nn.ReLU(),\n",
    "            nn.MaxPool2d(2, stride=2),\n",
    "            nn.Dropout(0.3),\n",
    "            nn.Conv2d(32, 64, 5),\n",
    "            nn.ReLU(),\n",
    "            nn.MaxPool2d(2, stride=2),\n",
    "            nn.Dropout(0.3)\n",
    "        )\n",
    "        self.fc = nn.Sequential(\n",
    "            nn.Linear(64*4*4, 512),\n",
    "            nn.ReLU(),\n",
    "            nn.Linear(512, 10)\n",
    "        )\n",
    "        \n",
    "    def forward(self, x):\n",
    "        x = self.conv(x)\n",
    "        x = x.view(-1, 64*4*4)\n",
    "        x = self.fc(x)\n",
    "        # x = nn.functional.normalize(x)\n",
    "        return x\n",
    "\n",
    "model = Net()\n",
    "model = model.cuda()\n",
    "# model = nn.DataParallel(model).cuda()   # 多卡训练时的写法，之后的课程中会进一步讲解"
   ]
  },
  {
   "cell_type": "code",
   "execution_count": 36,
   "metadata": {},
   "outputs": [
    {
     "name": "stdout",
     "output_type": "stream",
     "text": [
      "Epoch: 1 \tTraining Loss: 0.657877\n",
      "Epoch: 1 \tValidation Loss: 0.437606, Accuracy: 0.846900\n",
      "Epoch: 2 \tTraining Loss: 0.414319\n",
      "Epoch: 2 \tValidation Loss: 0.360067, Accuracy: 0.871700\n",
      "Epoch: 3 \tTraining Loss: 0.355082\n",
      "Epoch: 3 \tValidation Loss: 0.324875, Accuracy: 0.882300\n",
      "Epoch: 4 \tTraining Loss: 0.320759\n",
      "Epoch: 4 \tValidation Loss: 0.307447, Accuracy: 0.883800\n",
      "Epoch: 5 \tTraining Loss: 0.297867\n",
      "Epoch: 5 \tValidation Loss: 0.285631, Accuracy: 0.894300\n",
      "Epoch: 6 \tTraining Loss: 0.282021\n",
      "Epoch: 6 \tValidation Loss: 0.280325, Accuracy: 0.896600\n",
      "Epoch: 7 \tTraining Loss: 0.270494\n",
      "Epoch: 7 \tValidation Loss: 0.273004, Accuracy: 0.897600\n",
      "Epoch: 8 \tTraining Loss: 0.255683\n",
      "Epoch: 8 \tValidation Loss: 0.258120, Accuracy: 0.904100\n",
      "Epoch: 9 \tTraining Loss: 0.246926\n",
      "Epoch: 9 \tValidation Loss: 0.249970, Accuracy: 0.910500\n",
      "Epoch: 10 \tTraining Loss: 0.235983\n",
      "Epoch: 10 \tValidation Loss: 0.245057, Accuracy: 0.910700\n",
      "Epoch: 11 \tTraining Loss: 0.227019\n",
      "Epoch: 11 \tValidation Loss: 0.237713, Accuracy: 0.913500\n",
      "Epoch: 12 \tTraining Loss: 0.222801\n",
      "Epoch: 12 \tValidation Loss: 0.240585, Accuracy: 0.911300\n",
      "Epoch: 13 \tTraining Loss: 0.214366\n",
      "Epoch: 13 \tValidation Loss: 0.232949, Accuracy: 0.912100\n",
      "Epoch: 14 \tTraining Loss: 0.205437\n",
      "Epoch: 14 \tValidation Loss: 0.246782, Accuracy: 0.909100\n",
      "Epoch: 15 \tTraining Loss: 0.200556\n",
      "Epoch: 15 \tValidation Loss: 0.233645, Accuracy: 0.916200\n",
      "Epoch: 16 \tTraining Loss: 0.195959\n",
      "Epoch: 16 \tValidation Loss: 0.228592, Accuracy: 0.917200\n",
      "Epoch: 17 \tTraining Loss: 0.187738\n",
      "Epoch: 17 \tValidation Loss: 0.250653, Accuracy: 0.909800\n",
      "Epoch: 18 \tTraining Loss: 0.184522\n",
      "Epoch: 18 \tValidation Loss: 0.223687, Accuracy: 0.919500\n",
      "Epoch: 19 \tTraining Loss: 0.176572\n",
      "Epoch: 19 \tValidation Loss: 0.224548, Accuracy: 0.920700\n",
      "Epoch: 20 \tTraining Loss: 0.171133\n",
      "Epoch: 20 \tValidation Loss: 0.225272, Accuracy: 0.921300\n"
     ]
    }
   ],
   "source": [
    "criterion = nn.CrossEntropyLoss()\n",
    "optimizer = optim.Adam(model.parameters(), lr=0.001)\n",
    "def train(epoch):\n",
    "    model.train()\n",
    "    train_loss = 0\n",
    "    for data, label in train_loader:\n",
    "        data, label = data.cuda(), label.cuda()\n",
    "        optimizer.zero_grad()\n",
    "        output = model(data)\n",
    "        loss = criterion(output, label)\n",
    "        loss.backward()\n",
    "        optimizer.step()\n",
    "        train_loss += loss.item()*data.size(0)\n",
    "    train_loss = train_loss/len(train_loader.dataset)\n",
    "    print('Epoch: {} \\tTraining Loss: {:.6f}'.format(epoch, train_loss))\n",
    "def val(epoch):       \n",
    "    model.eval()\n",
    "    val_loss = 0\n",
    "    gt_labels = []\n",
    "    pred_labels = []\n",
    "    with torch.no_grad():\n",
    "        for data, label in test_loader:\n",
    "            data, label = data.cuda(), label.cuda()\n",
    "            output = model(data)\n",
    "            preds = torch.argmax(output, 1)\n",
    "            gt_labels.append(label.cpu().data.numpy())\n",
    "            pred_labels.append(preds.cpu().data.numpy())\n",
    "            loss = criterion(output, label)\n",
    "            val_loss += loss.item()*data.size(0)\n",
    "    val_loss = val_loss/len(test_loader.dataset)\n",
    "    gt_labels, pred_labels = np.concatenate(gt_labels), np.concatenate(pred_labels)\n",
    "    acc = np.sum(gt_labels==pred_labels)/len(pred_labels)\n",
    "    print('Epoch: {} \\tValidation Loss: {:.6f}, Accuracy: {:6f}'.format(epoch, val_loss, acc))\n",
    "\n",
    "for epoch in range(1, epochs+1):\n",
    "    train(epoch)\n",
    "    val(epoch)\n"
   ]
  }
 ],
 "metadata": {
  "kernelspec": {
   "display_name": "nngen",
   "language": "python",
   "name": "python3"
  },
  "language_info": {
   "codemirror_mode": {
    "name": "ipython",
    "version": 3
   },
   "file_extension": ".py",
   "mimetype": "text/x-python",
   "name": "python",
   "nbconvert_exporter": "python",
   "pygments_lexer": "ipython3",
   "version": "3.10.13"
  }
 },
 "nbformat": 4,
 "nbformat_minor": 2
}
