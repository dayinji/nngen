{
 "cells": [
  {
   "cell_type": "markdown",
   "metadata": {},
   "source": [
    "# 3.6 损失函数"
   ]
  },
  {
   "cell_type": "code",
   "execution_count": 104,
   "metadata": {},
   "outputs": [
    {
     "name": "stdout",
     "output_type": "stream",
     "text": [
      "tensor([0., 0., 0.])\n",
      "BCELoss损失函数的计算结果为 tensor(0.4646, grad_fn=<BinaryCrossEntropyBackward0>)\n"
     ]
    }
   ],
   "source": [
    "import torch\n",
    "import torch.nn as nn\n",
    "m = nn.Sigmoid()\n",
    "loss = nn.BCELoss()\n",
    "input = torch.randn(3, requires_grad=True)\n",
    "target = torch.empty(3).random_(2)\n",
    "print(target)\n",
    "output = loss(m(input), target)\n",
    "output.backward()\n",
    "\n",
    "print('BCELoss损失函数的计算结果为',output)"
   ]
  },
  {
   "cell_type": "code",
   "execution_count": 149,
   "metadata": {},
   "outputs": [
    {
     "name": "stdout",
     "output_type": "stream",
     "text": [
      "tensor([[ 0.,  0., 12.,  0.,  0.],\n",
      "        [ 0.,  0.,  0., 12.,  0.],\n",
      "        [ 0.,  0.,  0.,  0., 12.]], dtype=torch.float64, requires_grad=True) tensor([2, 3, 4])\n",
      "tensor(2.4577e-05, dtype=torch.float64, grad_fn=<NllLossBackward0>)\n"
     ]
    }
   ],
   "source": [
    "loss = nn.CrossEntropyLoss()\n",
    "input = torch.randn(3, 5, requires_grad=True)\n",
    "target = torch.empty(3, dtype=torch.long).random_(5)\n",
    "\n",
    "# input = torch.tensor([[0, 0, 12, 0, 0], [0, 0, 0, 12, 0], [0, 0, 0, 0, 12]], dtype=float, requires_grad=True)\n",
    "# target = torch.tensor([2, 3, 4], dtype=torch.long)\n",
    "\n",
    "output = loss(input, target)\n",
    "print(input, target)\n",
    "output.backward()\n",
    "\n",
    "print(output)"
   ]
  },
  {
   "cell_type": "code",
   "execution_count": 155,
   "metadata": {},
   "outputs": [
    {
     "name": "stdout",
     "output_type": "stream",
     "text": [
      "tensor([[-1.3978, -1.5244, -0.3794, -0.1591,  0.7434],\n",
      "        [ 0.5984, -0.5284,  1.6001, -1.0425,  0.8585],\n",
      "        [ 1.6198, -1.6599, -1.7279,  0.0155,  0.3969]], requires_grad=True) tensor([[ 0.5336,  0.9781,  0.2446,  0.2799, -0.1369],\n",
      "        [-1.5538,  1.1776,  1.2291, -0.5504,  0.3049],\n",
      "        [ 0.1673,  0.6074, -0.8998,  1.7977,  0.4949]])\n",
      "L1损失函数的计算结果为 tensor(1.2054, grad_fn=<MeanBackward0>)\n"
     ]
    }
   ],
   "source": [
    "loss = nn.L1Loss()\n",
    "input = torch.randn(3, 5, requires_grad=True)\n",
    "target = torch.randn(3, 5)\n",
    "output = loss(input, target)\n",
    "output.backward()\n",
    "print(input, target)\n",
    "\n",
    "print('L1损失函数的计算结果为',output)"
   ]
  },
  {
   "cell_type": "code",
   "execution_count": 156,
   "metadata": {},
   "outputs": [
    {
     "name": "stdout",
     "output_type": "stream",
     "text": [
      "tensor([[-1.5827, -0.4545,  0.5721, -0.0782,  1.4857],\n",
      "        [ 0.1584, -0.8874,  0.7323,  1.0446,  0.0632],\n",
      "        [ 0.3814, -0.0906, -0.5416,  0.5895, -1.4013]], requires_grad=True) tensor([[ 1.3658,  0.6780,  0.6126,  0.7548, -0.2695],\n",
      "        [-0.8074, -0.5349, -0.3989, -0.9855,  0.9337],\n",
      "        [ 0.6956, -0.5423,  1.4421,  0.1873, -0.2964]])\n",
      "MSE损失函数的计算结果为 tensor(1.7725, grad_fn=<MseLossBackward0>)\n"
     ]
    }
   ],
   "source": [
    "loss = nn.MSELoss()\n",
    "input = torch.randn(3, 5, requires_grad=True)\n",
    "target = torch.randn(3, 5)\n",
    "output = loss(input, target)\n",
    "output.backward()\n",
    "print(input, target)\n",
    "\n",
    "print('MSE损失函数的计算结果为',output)"
   ]
  },
  {
   "cell_type": "code",
   "execution_count": 154,
   "metadata": {},
   "outputs": [
    {
     "name": "stdout",
     "output_type": "stream",
     "text": [
      "SmoothL1Loss损失函数的计算结果为 tensor(0.6074, grad_fn=<SmoothL1LossBackward0>)\n"
     ]
    }
   ],
   "source": [
    "loss = nn.SmoothL1Loss()\n",
    "input = torch.randn(3, 5, requires_grad=True)\n",
    "target = torch.randn(3, 5)\n",
    "output = loss(input, target)\n",
    "output.backward()\n",
    "print('SmoothL1Loss损失函数的计算结果为',output)"
   ]
  },
  {
   "cell_type": "code",
   "execution_count": 157,
   "metadata": {},
   "outputs": [
    {
     "name": "stdout",
     "output_type": "stream",
     "text": [
      "PoissonNLLLoss损失函数的计算结果为 tensor(1.6761, grad_fn=<MeanBackward0>)\n"
     ]
    }
   ],
   "source": [
    "loss = nn.PoissonNLLLoss()\n",
    "log_input = torch.randn(5, 2, requires_grad=True)\n",
    "target = torch.randn(5, 2)\n",
    "output = loss(log_input, target)\n",
    "output.backward()\n",
    "print('PoissonNLLLoss损失函数的计算结果为',output)\n"
   ]
  },
  {
   "cell_type": "code",
   "execution_count": 316,
   "metadata": {},
   "outputs": [
    {
     "name": "stdout",
     "output_type": "stream",
     "text": [
      "PoissonNLLLoss损失函数的计算结果为 tensor(1.2162, grad_fn=<MeanBackward0>)\n"
     ]
    }
   ],
   "source": [
    "loss = nn.PoissonNLLLoss()\n",
    "log_input = torch.randn(5, 2, requires_grad=True)\n",
    "target = torch.randn(5, 2)\n",
    "output = loss(log_input, target)\n",
    "output.backward()\n",
    "\n",
    "print('PoissonNLLLoss损失函数的计算结果为',output)"
   ]
  },
  {
   "cell_type": "code",
   "execution_count": 320,
   "metadata": {},
   "outputs": [
    {
     "name": "stdout",
     "output_type": "stream",
     "text": [
      "KLDivLoss损失函数的计算结果为 tensor(-0.3335)\n"
     ]
    }
   ],
   "source": [
    "inputs = torch.tensor([[0.5, 0.3, 0.2], [0.2, 0.3, 0.5]])\n",
    "target = torch.tensor([[0.9, 0.05, 0.05], [0.1, 0.7, 0.2]], dtype=torch.float)\n",
    "loss = nn.KLDivLoss()\n",
    "output = loss(inputs,target)\n",
    "\n",
    "print('KLDivLoss损失函数的计算结果为',output)"
   ]
  }
 ],
 "metadata": {
  "kernelspec": {
   "display_name": "nngen",
   "language": "python",
   "name": "python3"
  },
  "language_info": {
   "codemirror_mode": {
    "name": "ipython",
    "version": 3
   },
   "file_extension": ".py",
   "mimetype": "text/x-python",
   "name": "python",
   "nbconvert_exporter": "python",
   "pygments_lexer": "ipython3",
   "version": "3.10.13"
  }
 },
 "nbformat": 4,
 "nbformat_minor": 2
}
